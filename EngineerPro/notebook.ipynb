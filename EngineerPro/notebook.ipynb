{
 "cells": [
  {
   "cell_type": "markdown",
   "metadata": {},
   "source": [
    "# VARIABLES"
   ]
  },
  {
   "cell_type": "code",
   "execution_count": 4,
   "metadata": {},
   "outputs": [],
   "source": [
    "var (\n",
    "\tcount = 0\n",
    "\tCount = 1\n",
    "\n",
    "\tcountInt64 int64 = 0\n",
    ")\n",
    "\n",
    "const (\n",
    "\tNUMBER_OF_COLOR = 256\n",
    ")\n",
    "\n",
    "func counting() int {\n",
    "\tcount++\n",
    "\t\n",
    "\t{\n",
    "\t\tvar countLocal = 0\n",
    "\t\tcountLocal++\n",
    "\t}\n",
    "\n",
    "\t{\n",
    "\t\tcount1 := 1\n",
    "\t\tcount1++\n",
    "\t}\n",
    "\n",
    "\t{\n",
    "\t\tcount1Int64 := int64(0)\n",
    "\t\tcount1Int64++\n",
    "\t}\n",
    "\n",
    "\treturn count\n",
    "}\n",
    "\n",
    "func counting2(v int) int {\n",
    "\tv++\n",
    "\treturn v\n",
    "}\n",
    "\n"
   ]
  },
  {
   "cell_type": "markdown",
   "metadata": {},
   "source": [
    "# ARRAYS/SLICES"
   ]
  },
  {
   "cell_type": "code",
   "execution_count": 9,
   "metadata": {},
   "outputs": [
    {
     "name": "stdout",
     "output_type": "stream",
     "text": [
      "[]\n",
      "[]\n"
     ]
    }
   ],
   "source": [
    "var (\n",
    "\tcolorsArr = [3]string{\"red\", \"green\", \"blue\"}\n",
    ")\n",
    "\n",
    "func main() {\n",
    "\tcolors := []string{\"red\", \"green\", \"blue\"}\n",
    "\tcolors = append(colors, \"purple\")\n",
    "\n",
    "\tcolorInts := make([]string, 0, len(colors))\n",
    "\tcolorsMake := make([]string, 0, 5)\n",
    "\n",
    "\tfmt.Println(colorInts)\n",
    "\tfmt.Println(colorsMake)\n",
    "}"
   ]
  },
  {
   "cell_type": "markdown",
   "metadata": {},
   "source": [
    "# STRUCTS"
   ]
  },
  {
   "cell_type": "code",
   "execution_count": 28,
   "metadata": {},
   "outputs": [
    {
     "name": "stdout",
     "output_type": "stream",
     "text": [
      "{Iron 10 [] map[]}\n"
     ]
    }
   ],
   "source": [
    "type StudentName string\n",
    "\n",
    "func (n StudentName) Validate() bool {\n",
    "\treturn len(n) <= 32 && n != \"\"\n",
    "}\n",
    "\n",
    "type Student struct {\n",
    "\tName StudentName `json:\"name\"`\n",
    "\tAge uint32\t`json:\"age\"`\n",
    "\tColor []string `json:\"color\"`\n",
    "\tColorMap map[string]int\n",
    "}\n",
    "\n",
    "func (s Student) GetAge() uint32 {\n",
    "\treturn s.Age\n",
    "}\n",
    "\n",
    "func (s *Student) SetAge(age uint32) {\n",
    "\ts.Age = age\n",
    "}\n",
    "\n",
    "type HTTPHeader map[string]string\n",
    "\n",
    "func (h HTTPHeader) Insert(key, value string) {\n",
    "\tif key == \"\" || value == \"\" {\n",
    "\t\treturn\n",
    "\t}\n",
    "\n",
    "\th[key] = value\n",
    "}\n",
    "\n",
    "func main() {\n",
    "\ts := Student{Name: \"Iron\", Age: 10}\n",
    "\n",
    "\tfmt.Println(s)\n",
    "\n",
    "\tStudentName(\"n\").Validate()\n",
    "}"
   ]
  },
  {
   "cell_type": "markdown",
   "metadata": {},
   "source": [
    "# MAP"
   ]
  },
  {
   "cell_type": "code",
   "execution_count": 24,
   "metadata": {},
   "outputs": [
    {
     "name": "stdout",
     "output_type": "stream",
     "text": [
      "0 false\n"
     ]
    }
   ],
   "source": [
    "var (\n",
    "\tcolorMap = map[string]int{\n",
    "\t\t\"r\": 0,\n",
    "\t\t\"g\": 1,\n",
    "\t\t\"b\": 2,\n",
    "\t}\n",
    "\n",
    "\tstrStrMap = map[string]string{\n",
    "\t\t\"hello\": \"world\",\n",
    "\t}\n",
    ")\n",
    "\n",
    "func main() {\n",
    "\tcolorMapMake := make(map[string]int)\n",
    "\tcolorMapMake[\"r\"] = 0\n",
    "\n",
    "\tvalue, ok := colorMapMake[\"y\"]\n",
    "\tfmt.Println(value, ok)\n",
    "}"
   ]
  }
 ],
 "metadata": {
  "kernelspec": {
   "display_name": "Go (gonb)",
   "language": "go",
   "name": "gonb"
  },
  "language_info": {
   "codemirror_mode": "",
   "file_extension": ".go",
   "mimetype": "",
   "name": "go",
   "nbconvert_exporter": "",
   "pygments_lexer": "",
   "version": "go1.21.6"
  }
 },
 "nbformat": 4,
 "nbformat_minor": 2
}
