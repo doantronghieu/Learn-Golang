{
 "cells": [
  {
   "cell_type": "markdown",
   "metadata": {},
   "source": [
    "# Marshalling and Unmarshalling JSON"
   ]
  },
  {
   "cell_type": "code",
   "execution_count": null,
   "metadata": {},
   "outputs": [],
   "source": [
    "import (\n",
    "\t\"encoding/json\"\n",
    "\t\"log\"\n",
    "\t\"net/http\"\n",
    "\t\"time\"\n",
    "\n",
    "\t\"github.com/gin-gonic/gin\"\n",
    ")\n",
    "\n",
    "type TodoItem struct {\n",
    "\tId          int        `json:\"id\"`\n",
    "\tTitle       string     `json:\"title\"`\n",
    "\tDescription string     `json:\"description\"`\n",
    "\tStatus      string     `json:\"status\"`\n",
    "\tCreatedAt   *time.Time `json:\"created_at\"`\n",
    "\tUpdatedAt   *time.Time `json:\"updated_at,omitempty\"`\n",
    "}\n",
    "\n",
    "now := time.Now().UTC()\n",
    "\n",
    "item := TodoItem{\n",
    "\tId:          1,\n",
    "\tTitle:       \"Task 1\",\n",
    "\tDescription: \"Content 1\",\n",
    "\tStatus:      \"Doing\",\n",
    "\tCreatedAt:   &now,\n",
    "\tUpdatedAt:   &now,\n",
    "}\n",
    "\n",
    "jsData, err := json.Marshal(item)\n",
    "if err != nil {\n",
    "\tlog.Fatalln(err)\n",
    "}\n",
    "log.Println(string(jsData))\n",
    "\n",
    "jsString := \"{\\\"id\\\":1,\\\"title\\\":\\\"Task 1\\\",\\\"description\\\":\\\"Content 1\\\",\\\"status\\\":\\\"Doing\\\",\\\"created_at\\\":\\\"2024-02-19T22:05:55.420951124Z\\\",\\\"updated_at\\\":\\\"2024-02-19T22:05:55.420951124Z\\\"}\"\n",
    "var item2 TodoItem\n",
    "if err := json.Unmarshal([]byte(jsString), &item2); err != nil {\n",
    "\tlog.Fatalln(err)\n",
    "}\n",
    "log.Println(item2)"
   ]
  }
 ],
 "metadata": {
  "kernelspec": {
   "display_name": "Go (gonb)",
   "language": "go",
   "name": "gonb"
  },
  "language_info": {
   "name": "go"
  }
 },
 "nbformat": 4,
 "nbformat_minor": 2
}
