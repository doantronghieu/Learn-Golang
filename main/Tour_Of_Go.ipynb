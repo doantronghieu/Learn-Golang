{
 "cells": [
  {
   "cell_type": "markdown",
   "metadata": {},
   "source": [
    "# Packages\n"
   ]
  },
  {
   "cell_type": "markdown",
   "metadata": {},
   "source": [
    "## Imports\n"
   ]
  },
  {
   "cell_type": "markdown",
   "metadata": {},
   "source": [
    "## Exported names\n"
   ]
  },
  {
   "cell_type": "markdown",
   "metadata": {},
   "source": [
    "# Functions\n"
   ]
  },
  {
   "cell_type": "markdown",
   "metadata": {},
   "source": [
    "## Multiple results\n"
   ]
  },
  {
   "cell_type": "markdown",
   "metadata": {},
   "source": [
    "## Named return values\n"
   ]
  },
  {
   "cell_type": "markdown",
   "metadata": {},
   "source": [
    "# Variables\n"
   ]
  },
  {
   "cell_type": "markdown",
   "metadata": {},
   "source": [
    "## With initializers\n"
   ]
  },
  {
   "cell_type": "markdown",
   "metadata": {},
   "source": [
    "## Short declarations\n"
   ]
  },
  {
   "cell_type": "markdown",
   "metadata": {},
   "source": [
    "# Types\n"
   ]
  },
  {
   "cell_type": "markdown",
   "metadata": {},
   "source": [
    "## Basic types\n"
   ]
  },
  {
   "cell_type": "markdown",
   "metadata": {},
   "source": [
    "## Zero values\n"
   ]
  },
  {
   "cell_type": "markdown",
   "metadata": {},
   "source": [
    "## Type conversions\n"
   ]
  },
  {
   "cell_type": "markdown",
   "metadata": {},
   "source": [
    "## Type inference\n"
   ]
  },
  {
   "cell_type": "markdown",
   "metadata": {},
   "source": [
    "## Constants\n"
   ]
  },
  {
   "cell_type": "markdown",
   "metadata": {},
   "source": [
    "## Numeric Constants\n"
   ]
  },
  {
   "cell_type": "markdown",
   "metadata": {},
   "source": [
    "## Pointers\n"
   ]
  },
  {
   "cell_type": "markdown",
   "metadata": {},
   "source": [
    "## Structs\n"
   ]
  },
  {
   "cell_type": "markdown",
   "metadata": {},
   "source": [
    "### Struct Fields\n"
   ]
  },
  {
   "cell_type": "markdown",
   "metadata": {},
   "source": [
    "### Pointers to structs\n"
   ]
  },
  {
   "cell_type": "markdown",
   "metadata": {},
   "source": [
    "### Struct Literals\n"
   ]
  },
  {
   "cell_type": "markdown",
   "metadata": {},
   "source": [
    "## Arrays\n"
   ]
  },
  {
   "cell_type": "markdown",
   "metadata": {},
   "source": [
    "## Slices\n"
   ]
  },
  {
   "cell_type": "markdown",
   "metadata": {},
   "source": [
    "### Array referenced\n"
   ]
  },
  {
   "cell_type": "markdown",
   "metadata": {},
   "source": [
    "### Literals\n"
   ]
  },
  {
   "cell_type": "markdown",
   "metadata": {},
   "source": [
    "### Defaults\n"
   ]
  },
  {
   "cell_type": "markdown",
   "metadata": {},
   "source": [
    "### Length and capacity\n"
   ]
  },
  {
   "cell_type": "markdown",
   "metadata": {},
   "source": [
    "### Nil slices\n"
   ]
  },
  {
   "cell_type": "markdown",
   "metadata": {},
   "source": [
    "### \"make\" a slice\n"
   ]
  },
  {
   "cell_type": "markdown",
   "metadata": {},
   "source": [
    "### Slices of slices\n"
   ]
  },
  {
   "cell_type": "markdown",
   "metadata": {},
   "source": [
    "### Appending\n"
   ]
  },
  {
   "cell_type": "markdown",
   "metadata": {},
   "source": [
    "### Range\n"
   ]
  },
  {
   "cell_type": "markdown",
   "metadata": {},
   "source": [
    "## Maps\n"
   ]
  },
  {
   "cell_type": "markdown",
   "metadata": {},
   "source": [
    "### Literals\n"
   ]
  },
  {
   "cell_type": "markdown",
   "metadata": {},
   "source": [
    "### Mutating\n"
   ]
  },
  {
   "cell_type": "markdown",
   "metadata": {},
   "source": [
    "## Functions\n"
   ]
  },
  {
   "cell_type": "markdown",
   "metadata": {},
   "source": [
    "### Values\n"
   ]
  },
  {
   "cell_type": "markdown",
   "metadata": {},
   "source": [
    "### Closures\n"
   ]
  },
  {
   "cell_type": "markdown",
   "metadata": {},
   "source": [
    "\n",
    "\n",
    "# Flow control statements\n"
   ]
  },
  {
   "cell_type": "markdown",
   "metadata": {},
   "source": [
    "## For\n"
   ]
  },
  {
   "cell_type": "markdown",
   "metadata": {},
   "source": [
    "### For is Go's \"while\"\n"
   ]
  },
  {
   "cell_type": "markdown",
   "metadata": {},
   "source": [
    "### Forever\n"
   ]
  },
  {
   "cell_type": "markdown",
   "metadata": {},
   "source": [
    "## if\n"
   ]
  },
  {
   "cell_type": "markdown",
   "metadata": {},
   "source": [
    "### If with a short statement\n"
   ]
  },
  {
   "cell_type": "markdown",
   "metadata": {},
   "source": [
    "### If else\n"
   ]
  },
  {
   "cell_type": "markdown",
   "metadata": {},
   "source": [
    "## Switch\n"
   ]
  },
  {
   "cell_type": "markdown",
   "metadata": {},
   "source": [
    "### Evaluation order\n"
   ]
  },
  {
   "cell_type": "markdown",
   "metadata": {},
   "source": [
    "### No condition\n"
   ]
  },
  {
   "cell_type": "markdown",
   "metadata": {},
   "source": [
    "## Defer\n"
   ]
  },
  {
   "cell_type": "markdown",
   "metadata": {},
   "source": [
    "### Stacking defers\n"
   ]
  },
  {
   "cell_type": "markdown",
   "metadata": {},
   "source": [
    "\n",
    "# Methods\n"
   ]
  },
  {
   "cell_type": "markdown",
   "metadata": {},
   "source": [
    "## Methods are functions\n"
   ]
  },
  {
   "cell_type": "markdown",
   "metadata": {},
   "source": [
    "## Pointer receivers\n"
   ]
  },
  {
   "cell_type": "markdown",
   "metadata": {},
   "source": [
    "## Pointers and functions\n"
   ]
  },
  {
   "cell_type": "markdown",
   "metadata": {},
   "source": [
    "## Methods and pointer indirection\n"
   ]
  },
  {
   "cell_type": "markdown",
   "metadata": {},
   "source": [
    "## Choosing value or pointer receivers\n"
   ]
  },
  {
   "cell_type": "markdown",
   "metadata": {},
   "source": [
    "\n",
    "# Interfaces\n"
   ]
  },
  {
   "cell_type": "markdown",
   "metadata": {},
   "source": [
    "## Implicit implementation\n"
   ]
  },
  {
   "cell_type": "markdown",
   "metadata": {},
   "source": [
    "## Values\n"
   ]
  },
  {
   "cell_type": "markdown",
   "metadata": {},
   "source": [
    "## Nil Underlying Values\n"
   ]
  },
  {
   "cell_type": "markdown",
   "metadata": {},
   "source": [
    "## Nil interface values\n"
   ]
  },
  {
   "cell_type": "markdown",
   "metadata": {},
   "source": [
    "## The empty interface\n"
   ]
  },
  {
   "cell_type": "markdown",
   "metadata": {},
   "source": [
    "## Type assertions\n"
   ]
  },
  {
   "cell_type": "markdown",
   "metadata": {},
   "source": [
    "## Type switches\n"
   ]
  },
  {
   "cell_type": "markdown",
   "metadata": {},
   "source": [
    "## Stringers\n"
   ]
  },
  {
   "cell_type": "markdown",
   "metadata": {},
   "source": [
    "## Errors\n"
   ]
  },
  {
   "cell_type": "markdown",
   "metadata": {},
   "source": [
    "## Readers\n"
   ]
  },
  {
   "cell_type": "markdown",
   "metadata": {},
   "source": [
    "## Images\n"
   ]
  },
  {
   "cell_type": "markdown",
   "metadata": {},
   "source": [
    "\n",
    "# Generics\n"
   ]
  },
  {
   "cell_type": "markdown",
   "metadata": {},
   "source": [
    "## Type parameters\n"
   ]
  },
  {
   "cell_type": "markdown",
   "metadata": {},
   "source": [
    "## Generic types\n"
   ]
  },
  {
   "cell_type": "markdown",
   "metadata": {},
   "source": [
    "\n",
    "# Concurrency\n"
   ]
  },
  {
   "cell_type": "markdown",
   "metadata": {},
   "source": [
    "## Goroutines\n"
   ]
  },
  {
   "cell_type": "markdown",
   "metadata": {},
   "source": [
    "## Channels\n"
   ]
  },
  {
   "cell_type": "markdown",
   "metadata": {},
   "source": [
    "### Intro"
   ]
  },
  {
   "cell_type": "code",
   "execution_count": 2,
   "metadata": {},
   "outputs": [
    {
     "name": "stdout",
     "output_type": "stream",
     "text": [
      "Sent\n",
      "1\n",
      "Done\n"
     ]
    }
   ],
   "source": [
    "import (\n",
    "\t\"fmt\"\n",
    ")\n",
    "\n",
    "func main() {\n",
    "\tch := make(chan int)\n",
    "\n",
    "\tgo func(){\n",
    "\t\tch <- 1\n",
    "\t\tfmt.Println(\"Sent\")\n",
    "\t}()\n",
    "\n",
    "\tfmt.Println(<-ch)\n",
    "\tfmt.Println(\"Done\")\n",
    "}"
   ]
  },
  {
   "cell_type": "code",
   "execution_count": 3,
   "metadata": {},
   "outputs": [
    {
     "name": "stdout",
     "output_type": "stream",
     "text": [
      "Hello Nam\n",
      "Hello Nam\n",
      "Hello Nam\n",
      "Hello Nam\n",
      "Hello Nam\n",
      "Hello Nam\n",
      "Hello Viet\n",
      "Hello Viet\n",
      "Hello Viet\n",
      "Hello Viet\n",
      "Hello Viet\n",
      "Hello Viet\n"
     ]
    }
   ],
   "source": [
    "import (\n",
    "\t\"fmt\"\n",
    "\t\"time\"\n",
    ")\n",
    "\n",
    "func sayHello(name string) {\n",
    "\tfor i := 0; i <= 5; i++ {\n",
    "\t\tfmt.Printf(\"Hello %s\\n\", name)\n",
    "\t}\n",
    "}\n",
    "\n",
    "func main() {\n",
    "\tgo sayHello(\"Viet\")\n",
    "\n",
    "\tsayHello(\"Nam\")\n",
    "\n",
    "\ttime.Sleep(time.Second)\n",
    "}"
   ]
  },
  {
   "cell_type": "code",
   "execution_count": 5,
   "metadata": {},
   "outputs": [
    {
     "name": "stdout",
     "output_type": "stream",
     "text": [
      "2 1 2 1 2 1 1 1 1 1 1 1 1 1 1 1 1 1 1 1 1 1 1 1 1 1 1 1 1 1 1 1 1 1 1 1 1 2 1 2 1 2 2 1 1 1 1 1 1 2 1 2 1 1 1 1 1 1 1 2 2 2 2 2 2 2 2 2 2 2 2 2 2 2 2 2 2 2 2 2 2 2 2 2 2 2 2 2 2 2 2 2 2 2 2 2 2 2 2 2 "
     ]
    }
   ],
   "source": [
    "import (\n",
    "\t\"fmt\"\n",
    "\t\"time\"\n",
    "\t\"runtime\"\n",
    ")\n",
    "\n",
    "func runGoroutine(n int) {\n",
    "\tfor i := 1; i <= 50; i++ {\n",
    "\t\tfmt.Printf(\"%v \", n)\n",
    "\t\truntime.Gosched()\n",
    "\t}\n",
    "}\n",
    "\n",
    "func main() {\n",
    "\tgo runGoroutine(1)\n",
    "\tgo runGoroutine(2)\n",
    "\n",
    "\ttime.Sleep(time.Second)\n",
    "}"
   ]
  },
  {
   "cell_type": "markdown",
   "metadata": {},
   "source": [
    "### Buffered Channels\n"
   ]
  },
  {
   "cell_type": "code",
   "execution_count": 8,
   "metadata": {},
   "outputs": [
    {
     "name": "stdout",
     "output_type": "stream",
     "text": [
      "1 -> \n",
      "2 -> \n",
      "3 -> \n",
      "4 -> \n",
      "5 -> \n",
      "6 -> \n",
      "7 -> \n",
      "8 -> \n",
      "9 -> \n",
      "10 -> \n",
      "11 -> \n",
      "1 <-\n",
      "2 <-\n",
      "12 -> \n",
      "3 <-\n",
      "13 -> \n",
      "4 <-\n",
      "14 -> \n",
      "5 <-\n",
      "15 -> \n",
      "6 <-\n",
      "16 -> \n",
      "7 <-\n",
      "17 -> \n",
      "8 <-\n",
      "18 -> \n",
      "9 <-\n",
      "19 -> \n",
      "10 <-\n",
      "20 -> \n",
      "11 <-\n",
      "12 <-\n",
      "13 <-\n",
      "14 <-\n",
      "15 <-\n",
      "16 <-\n",
      "17 <-\n",
      "18 <-\n",
      "19 <-\n",
      "20 <-\n"
     ]
    }
   ],
   "source": [
    "import (\n",
    "\t\"fmt\"\n",
    "\t\"time\"\n",
    ")\n",
    "\n",
    "func main() {\n",
    "\tch := make(chan int, 10)\n",
    "\n",
    "\tgo func() {\n",
    "\t\tfor i := 1; i <= 20; i++ {\n",
    "\t\t\tch <- i\n",
    "\t\t\tfmt.Printf(\"%v -> \\n\", i)\n",
    "\t\t}\n",
    "\t\t}()\n",
    "\t\t\n",
    "\t\tfor i := 1; i <= 20; i++ {\n",
    "\t\ttime.Sleep(time.Second)\n",
    "\t\tfmt.Printf(\"%v <-\\n\", <-ch)\n",
    "\t}\n",
    "}"
   ]
  },
  {
   "cell_type": "markdown",
   "metadata": {},
   "source": [
    "### Range and Close\n"
   ]
  },
  {
   "cell_type": "code",
   "execution_count": 9,
   "metadata": {},
   "outputs": [
    {
     "name": "stdout",
     "output_type": "stream",
     "text": [
      "1 -> \n",
      "2 -> \n",
      "3 -> \n",
      "4 -> \n",
      "5 -> \n",
      "6 -> \n",
      "7 -> \n",
      "8 -> \n",
      "9 -> \n",
      "10 -> \n",
      "11 -> \n",
      "1 <-\n",
      "12 -> \n",
      "2 <-\n",
      "13 -> \n",
      "3 <-\n",
      "14 -> \n",
      "4 <-\n",
      "15 -> \n",
      "5 <-\n",
      "16 -> \n",
      "6 <-\n",
      "17 -> \n",
      "7 <-\n",
      "18 -> \n",
      "8 <-\n",
      "19 -> \n",
      "9 <-\n",
      "20 -> \n",
      "10 <-\n",
      "11 <-\n",
      "12 <-\n",
      "13 <-\n",
      "14 <-\n",
      "15 <-\n",
      "16 <-\n",
      "17 <-\n",
      "18 <-\n",
      "19 <-\n",
      "20 <-\n"
     ]
    }
   ],
   "source": [
    "import (\n",
    "\t\"fmt\"\n",
    "\t\"time\"\n",
    ")\n",
    "\n",
    "func main() {\n",
    "\tch := make(chan int, 10)\n",
    "\n",
    "\tgo func() {\n",
    "\t\tfor i := 1; i <= 20; i++ {\n",
    "\t\t\tch <- i\n",
    "\t\t\tfmt.Printf(\"%v -> \\n\", i)\n",
    "\t\t}\n",
    "\t\tclose(ch)\n",
    "\t}()\n",
    "\t\t\n",
    "\tfor v := range ch {\n",
    "\t\ttime.Sleep(time.Second)\n",
    "\t\tfmt.Printf(\"%v <-\\n\", v)\n",
    "\t}\n",
    "}"
   ]
  },
  {
   "cell_type": "markdown",
   "metadata": {},
   "source": [
    "### Select\n"
   ]
  },
  {
   "cell_type": "code",
   "execution_count": null,
   "metadata": {},
   "outputs": [],
   "source": [
    "import (\n",
    "\t\"fmt\"\n",
    "\t\"time\"\n",
    ")\n",
    "\n",
    "func main() {\n",
    "\tch1 := make(chan int)\n",
    "\tch2 := make(chan int)\n",
    "\n",
    "\tgo func() {\n",
    "\t\ttime.Sleep(time.Second)\n",
    "\t\tch1 <- 1\n",
    "\t}()\n",
    "\n",
    "\tgo func() {\n",
    "\t\ttime.Sleep(time.Second * 2)\n",
    "\t\tch2 <- 2\n",
    "\t}()\n",
    "\t\t\n",
    "\tfor {\n",
    "\t\tselect {\n",
    "\t\tcase v1 := <-ch1:\n",
    "\t\t\tfmt.Println(\"Ch1\")\n",
    "\t\tcase v2 := <-ch2:\n",
    "\t\t\tfmt.Println(\"Ch2\")\n",
    "\t\t}\n",
    "\t}\n",
    "}"
   ]
  },
  {
   "cell_type": "markdown",
   "metadata": {},
   "source": [
    "### Default Selection\n"
   ]
  },
  {
   "cell_type": "markdown",
   "metadata": {},
   "source": [
    "## sync.Mutex\n"
   ]
  },
  {
   "cell_type": "code",
   "execution_count": 14,
   "metadata": {},
   "outputs": [
    {
     "name": "stdout",
     "output_type": "stream",
     "text": [
      "30000\n"
     ]
    }
   ],
   "source": [
    "import (\n",
    "\t\"fmt\"\n",
    "\t\"time\"\n",
    "\t\"sync\"\n",
    ")\n",
    "\n",
    "func main() {\n",
    "\tlock := new(sync.Mutex)\n",
    "\tn := 0\n",
    "\tnGoroutines := 10\n",
    "\n",
    "\tfor i := 1; i <= nGoroutines; i++ {\n",
    "\t\tgo func(){\n",
    "\t\t\tfor j := 1; j <= 3000; j++ {\n",
    "\t\t\t\tlock.Lock()\n",
    "\t\t\t\tn++\n",
    "\t\t\t\tlock.Unlock()\n",
    "\t\t\t}\n",
    "\t\t}()\n",
    "\t}\n",
    "\n",
    "\ttime.Sleep(time.Second*1)\n",
    "\n",
    "\tfmt.Println(n)\n",
    "}"
   ]
  }
 ],
 "metadata": {
  "kernelspec": {
   "display_name": "Go (gonb)",
   "language": "go",
   "name": "gonb"
  },
  "language_info": {
   "codemirror_mode": "",
   "file_extension": ".go",
   "mimetype": "",
   "name": "go",
   "nbconvert_exporter": "",
   "pygments_lexer": "",
   "version": "go1.21.6"
  }
 },
 "nbformat": 4,
 "nbformat_minor": 2
}
